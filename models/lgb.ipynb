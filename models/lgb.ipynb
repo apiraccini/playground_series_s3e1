{
 "cells": [
  {
   "attachments": {},
   "cell_type": "markdown",
   "metadata": {},
   "source": [
    "# Boosting"
   ]
  },
  {
   "cell_type": "code",
   "execution_count": 1,
   "metadata": {},
   "outputs": [
    {
     "name": "stdout",
     "output_type": "stream",
     "text": [
      "Windows-10-10.0.19045-SP0\n",
      "Python 3.10.5 (tags/v3.10.5:f377153, Jun  6 2022, 16:14:13) [MSC v.1929 64 bit (AMD64)]\n"
     ]
    }
   ],
   "source": [
    "import platform; print(platform.platform())\n",
    "import sys; print(\"Python\", sys.version)"
   ]
  },
  {
   "attachments": {},
   "cell_type": "markdown",
   "metadata": {},
   "source": [
    "## Setup"
   ]
  },
  {
   "cell_type": "code",
   "execution_count": 2,
   "metadata": {},
   "outputs": [],
   "source": [
    "import numpy as np\n",
    "import pandas as pd\n",
    "\n",
    "import os \n",
    "import joblib\n",
    "import time\n",
    "\n",
    "from sklearn.model_selection import train_test_split, KFold\n",
    "from sklearn.metrics import mean_squared_error\n",
    "\n",
    "import optuna\n",
    "import lightgbm as lgb"
   ]
  },
  {
   "cell_type": "code",
   "execution_count": 3,
   "metadata": {},
   "outputs": [],
   "source": [
    "class cfg:\n",
    "    modelname = 'lgb'\n",
    "    debug = False\n",
    "    optim = False\n",
    "    seed = 42\n",
    "    nfolds = 5\n",
    "    njobs = 2"
   ]
  },
  {
   "cell_type": "code",
   "execution_count": 4,
   "metadata": {},
   "outputs": [
    {
     "data": {
      "text/html": [
       "<div>\n",
       "<style scoped>\n",
       "    .dataframe tbody tr th:only-of-type {\n",
       "        vertical-align: middle;\n",
       "    }\n",
       "\n",
       "    .dataframe tbody tr th {\n",
       "        vertical-align: top;\n",
       "    }\n",
       "\n",
       "    .dataframe thead th {\n",
       "        text-align: right;\n",
       "    }\n",
       "</style>\n",
       "<table border=\"1\" class=\"dataframe\">\n",
       "  <thead>\n",
       "    <tr style=\"text-align: right;\">\n",
       "      <th></th>\n",
       "      <th>MedInc</th>\n",
       "      <th>HouseAge</th>\n",
       "      <th>AveRooms</th>\n",
       "      <th>AveBedrms</th>\n",
       "      <th>Population</th>\n",
       "      <th>AveOccup</th>\n",
       "      <th>Latitude</th>\n",
       "      <th>Longitude</th>\n",
       "      <th>MedHouseVal</th>\n",
       "      <th>IsSynthetic</th>\n",
       "      <th>...</th>\n",
       "      <th>Monterey County</th>\n",
       "      <th>Napa County</th>\n",
       "      <th>Orange County</th>\n",
       "      <th>Other</th>\n",
       "      <th>Riverside County</th>\n",
       "      <th>San Francisco County</th>\n",
       "      <th>Santa Barbara County</th>\n",
       "      <th>Santa Clara County</th>\n",
       "      <th>Ventura County</th>\n",
       "      <th>Yolo County</th>\n",
       "    </tr>\n",
       "  </thead>\n",
       "  <tbody>\n",
       "    <tr>\n",
       "      <th>0</th>\n",
       "      <td>5.0855</td>\n",
       "      <td>17.0</td>\n",
       "      <td>6.190805</td>\n",
       "      <td>1.105747</td>\n",
       "      <td>1538.0</td>\n",
       "      <td>3.373563</td>\n",
       "      <td>38.02</td>\n",
       "      <td>-121.36</td>\n",
       "      <td>1.035</td>\n",
       "      <td>1.0</td>\n",
       "      <td>...</td>\n",
       "      <td>0.0</td>\n",
       "      <td>0.0</td>\n",
       "      <td>0.0</td>\n",
       "      <td>1.0</td>\n",
       "      <td>0.0</td>\n",
       "      <td>0.0</td>\n",
       "      <td>0.0</td>\n",
       "      <td>0.0</td>\n",
       "      <td>0.0</td>\n",
       "      <td>0.0</td>\n",
       "    </tr>\n",
       "    <tr>\n",
       "      <th>1</th>\n",
       "      <td>3.3636</td>\n",
       "      <td>5.0</td>\n",
       "      <td>4.239899</td>\n",
       "      <td>1.020202</td>\n",
       "      <td>3278.0</td>\n",
       "      <td>2.066007</td>\n",
       "      <td>33.68</td>\n",
       "      <td>-117.53</td>\n",
       "      <td>1.969</td>\n",
       "      <td>1.0</td>\n",
       "      <td>...</td>\n",
       "      <td>0.0</td>\n",
       "      <td>0.0</td>\n",
       "      <td>1.0</td>\n",
       "      <td>0.0</td>\n",
       "      <td>0.0</td>\n",
       "      <td>0.0</td>\n",
       "      <td>0.0</td>\n",
       "      <td>0.0</td>\n",
       "      <td>0.0</td>\n",
       "      <td>0.0</td>\n",
       "    </tr>\n",
       "    <tr>\n",
       "      <th>2</th>\n",
       "      <td>5.0417</td>\n",
       "      <td>29.0</td>\n",
       "      <td>6.602317</td>\n",
       "      <td>1.023529</td>\n",
       "      <td>1119.0</td>\n",
       "      <td>2.705479</td>\n",
       "      <td>33.84</td>\n",
       "      <td>-117.95</td>\n",
       "      <td>2.638</td>\n",
       "      <td>1.0</td>\n",
       "      <td>...</td>\n",
       "      <td>0.0</td>\n",
       "      <td>0.0</td>\n",
       "      <td>1.0</td>\n",
       "      <td>0.0</td>\n",
       "      <td>0.0</td>\n",
       "      <td>0.0</td>\n",
       "      <td>0.0</td>\n",
       "      <td>0.0</td>\n",
       "      <td>0.0</td>\n",
       "      <td>0.0</td>\n",
       "    </tr>\n",
       "    <tr>\n",
       "      <th>3</th>\n",
       "      <td>4.1364</td>\n",
       "      <td>22.0</td>\n",
       "      <td>5.448584</td>\n",
       "      <td>0.986717</td>\n",
       "      <td>1750.0</td>\n",
       "      <td>3.020478</td>\n",
       "      <td>38.47</td>\n",
       "      <td>-121.77</td>\n",
       "      <td>1.188</td>\n",
       "      <td>1.0</td>\n",
       "      <td>...</td>\n",
       "      <td>0.0</td>\n",
       "      <td>0.0</td>\n",
       "      <td>0.0</td>\n",
       "      <td>1.0</td>\n",
       "      <td>0.0</td>\n",
       "      <td>0.0</td>\n",
       "      <td>0.0</td>\n",
       "      <td>0.0</td>\n",
       "      <td>0.0</td>\n",
       "      <td>0.0</td>\n",
       "    </tr>\n",
       "    <tr>\n",
       "      <th>4</th>\n",
       "      <td>1.6031</td>\n",
       "      <td>39.0</td>\n",
       "      <td>4.742204</td>\n",
       "      <td>1.075092</td>\n",
       "      <td>1168.0</td>\n",
       "      <td>3.250000</td>\n",
       "      <td>36.75</td>\n",
       "      <td>-119.80</td>\n",
       "      <td>0.669</td>\n",
       "      <td>1.0</td>\n",
       "      <td>...</td>\n",
       "      <td>0.0</td>\n",
       "      <td>0.0</td>\n",
       "      <td>0.0</td>\n",
       "      <td>0.0</td>\n",
       "      <td>0.0</td>\n",
       "      <td>0.0</td>\n",
       "      <td>0.0</td>\n",
       "      <td>0.0</td>\n",
       "      <td>0.0</td>\n",
       "      <td>0.0</td>\n",
       "    </tr>\n",
       "  </tbody>\n",
       "</table>\n",
       "<p>5 rows × 33 columns</p>\n",
       "</div>"
      ],
      "text/plain": [
       "   MedInc  HouseAge  AveRooms  AveBedrms  Population  AveOccup  Latitude  \\\n",
       "0  5.0855      17.0  6.190805   1.105747      1538.0  3.373563     38.02   \n",
       "1  3.3636       5.0  4.239899   1.020202      3278.0  2.066007     33.68   \n",
       "2  5.0417      29.0  6.602317   1.023529      1119.0  2.705479     33.84   \n",
       "3  4.1364      22.0  5.448584   0.986717      1750.0  3.020478     38.47   \n",
       "4  1.6031      39.0  4.742204   1.075092      1168.0  3.250000     36.75   \n",
       "\n",
       "   Longitude  MedHouseVal  IsSynthetic  ...  Monterey County  Napa County  \\\n",
       "0    -121.36        1.035          1.0  ...              0.0          0.0   \n",
       "1    -117.53        1.969          1.0  ...              0.0          0.0   \n",
       "2    -117.95        2.638          1.0  ...              0.0          0.0   \n",
       "3    -121.77        1.188          1.0  ...              0.0          0.0   \n",
       "4    -119.80        0.669          1.0  ...              0.0          0.0   \n",
       "\n",
       "   Orange County  Other  Riverside County  San Francisco County  \\\n",
       "0            0.0    1.0               0.0                   0.0   \n",
       "1            1.0    0.0               0.0                   0.0   \n",
       "2            1.0    0.0               0.0                   0.0   \n",
       "3            0.0    1.0               0.0                   0.0   \n",
       "4            0.0    0.0               0.0                   0.0   \n",
       "\n",
       "   Santa Barbara County  Santa Clara County  Ventura County  Yolo County  \n",
       "0                   0.0                 0.0             0.0          0.0  \n",
       "1                   0.0                 0.0             0.0          0.0  \n",
       "2                   0.0                 0.0             0.0          0.0  \n",
       "3                   0.0                 0.0             0.0          0.0  \n",
       "4                   0.0                 0.0             0.0          0.0  \n",
       "\n",
       "[5 rows x 33 columns]"
      ]
     },
     "execution_count": 4,
     "metadata": {},
     "output_type": "execute_result"
    }
   ],
   "source": [
    "# load data\n",
    "train = pd.read_csv('../data/final/train.csv')\n",
    "valid = pd.read_csv('../data/final/valid.csv')\n",
    "test = pd.read_csv('../data/final/test.csv')\n",
    "\n",
    "train.head()"
   ]
  },
  {
   "cell_type": "code",
   "execution_count": 5,
   "metadata": {},
   "outputs": [
    {
     "name": "stdout",
     "output_type": "stream",
     "text": [
      "Target: MedHouseVal\n",
      "Features: ['MedInc', 'HouseAge', 'AveRooms', 'AveBedrms', 'Population', 'AveOccup', 'Latitude', 'Longitude', 'IsSynthetic', 'AnomalyScore', 'rot_15_x', 'rot_15_y', 'rot_30_x', 'rot_30_y', 'rot_45_x', 'pca_lon', 'pca_lat', 'Alameda County', 'Contra Costa County', 'Fresno County', 'Kern County', 'Los Angeles County', 'Monterey County', 'Napa County', 'Orange County', 'Other', 'Riverside County', 'San Francisco County', 'Santa Barbara County', 'Santa Clara County', 'Ventura County', 'Yolo County']\n",
      "Train set shape: (42922, 33)\n",
      "Validation set shape: (14855, 33)\n",
      "Test set shape: (24759, 32)\n"
     ]
    }
   ],
   "source": [
    "# quick info\n",
    "TARGET = 'MedHouseVal'\n",
    "FEATURES = [c for c in train.columns if c not in [TARGET]]\n",
    "\n",
    "print(f'Target: {TARGET}\\nFeatures: {FEATURES}')\n",
    "print('Train set shape:', train.shape)\n",
    "print('Validation set shape:', valid.shape)\n",
    "print('Test set shape:', test.shape)\n",
    "\n",
    "x = train[FEATURES]\n",
    "y = train[TARGET]"
   ]
  },
  {
   "cell_type": "code",
   "execution_count": 6,
   "metadata": {},
   "outputs": [],
   "source": [
    "# setup\n",
    "params_path = './training_files/params/'\n",
    "os.makedirs(params_path, exist_ok=True)\n",
    "\n",
    "cv = KFold(n_splits=cfg.nfolds, shuffle=True, random_state=cfg.seed)"
   ]
  },
  {
   "attachments": {},
   "cell_type": "markdown",
   "metadata": {},
   "source": [
    "## Hyperparameter tuning"
   ]
  },
  {
   "cell_type": "code",
   "execution_count": 7,
   "metadata": {},
   "outputs": [],
   "source": [
    "# fixed params\n",
    "fixed_params = {\n",
    "        'objective': 'regression',\n",
    "        'metric': 'rmse',\n",
    "        'device': 'cpu',\n",
    "        'verbosity': -1,\n",
    "        'early_stopping_round': 15,\n",
    "        'boosting_type': 'gbdt' \n",
    "    }\n",
    "\n",
    "# objective function for optimization\n",
    "def objective(trial):\n",
    "    \n",
    "    # trial parameters\n",
    "    tuning_params = {\n",
    "        #'boosting_type': trial.suggest_categorical('boosting', ['gbdt', 'dart']),\n",
    "        'n_estimators': trial.suggest_int('n_estimators', 100, 2500),\n",
    "        'learning_rate': trial.suggest_float('learning_rate', 0.05, 0.3),\n",
    "        'reg_alpha': trial.suggest_float('reg_alpha', 1e-8, 10.0),\n",
    "        'reg_lambda': trial.suggest_float('reg_lambda', 1e-8, 10.0),\n",
    "        'num_leaves': trial.suggest_int('num_leaves', 2, 512),\n",
    "        'colsample_bytree': trial.suggest_float('colsample_bytree', 0.4, 1.0),\n",
    "        'subsample': trial.suggest_float('subsample', 0.4, 1.0),\n",
    "        'subsample_freq': trial.suggest_int('subsample_freq', 1, 7),\n",
    "        'min_child_samples': trial.suggest_int('min_child_samples', 5, 100),\n",
    "    }\n",
    "\n",
    "    params = {**fixed_params, **tuning_params}\n",
    "\n",
    "    # train and score with cv\n",
    "    scores = []\n",
    "    for train_idx, test_idx in cv.split(x, y):\n",
    "        \n",
    "        # split data\n",
    "        x_train, x_val = x.iloc[train_idx], x.iloc[test_idx]\n",
    "        y_train, y_val = y.iloc[train_idx], y.iloc[test_idx]\n",
    "        \n",
    "        # fit model\n",
    "        model = lgb.LGBMRegressor(**params)\n",
    "        model.fit(\n",
    "            x_train,\n",
    "            y_train,\n",
    "            eval_set=[(x_val, y_val)],\n",
    "            callbacks=[lgb.log_evaluation(period=0, show_stdv=False)]\n",
    "        )\n",
    "        \n",
    "        # obtain score\n",
    "        rmse = np.sqrt(mean_squared_error(y_val, model.predict(x_val)))\n",
    "        scores.append(rmse)\n",
    "\n",
    "    # return mean cv score \n",
    "    return np.mean(scores)"
   ]
  },
  {
   "cell_type": "code",
   "execution_count": 8,
   "metadata": {},
   "outputs": [],
   "source": [
    "if cfg.optim:\n",
    "\n",
    "    # create study\n",
    "    sampler = optuna.samplers.TPESampler(seed=cfg.seed)\n",
    "    max_trials = 2 if cfg.debug else 100\n",
    "    time_limit = 3600 * 0.5\n",
    "\n",
    "    study = optuna.create_study(\n",
    "        sampler=sampler,\n",
    "        study_name= f'{cfg.modelname}_optimization',\n",
    "        direction='minimize')\n",
    "\n",
    "    # perform optimization\n",
    "    print(f'Starting {cfg.modelname} optimization...')\n",
    "    study.optimize(\n",
    "        objective,\n",
    "        n_trials = max_trials,\n",
    "        timeout = time_limit,\n",
    "    )"
   ]
  },
  {
   "cell_type": "code",
   "execution_count": 9,
   "metadata": {},
   "outputs": [],
   "source": [
    "if cfg.optim:\n",
    "    \n",
    "    # optimization results\n",
    "    print(f\"Number of finished trials: {len(study.trials)}\")\n",
    "    print(f\"Best score: {study.best_value}\")\n",
    "    best_params = {**fixed_params, **study.best_trial.params}\n",
    "    print(\"Best trial parameters:\")\n",
    "    for k, v in best_params.items():\n",
    "        print(f\"\\t{k}: {v}\")\n",
    "\n",
    "    # save best params\n",
    "    best_params_path = f'{params_path}{cfg.modelname}.joblib'\n",
    "    with open(best_params_path, \"wb\") as file:\n",
    "        joblib.dump(best_params, file)"
   ]
  },
  {
   "attachments": {},
   "cell_type": "markdown",
   "metadata": {},
   "source": [
    "## Final model"
   ]
  },
  {
   "attachments": {},
   "cell_type": "markdown",
   "metadata": {},
   "source": [
    "### Classic boosting"
   ]
  },
  {
   "cell_type": "code",
   "execution_count": 10,
   "metadata": {},
   "outputs": [
    {
     "name": "stdout",
     "output_type": "stream",
     "text": [
      "Final parameters:\n",
      "\tobjective: regression\n",
      "\tmetric: rmse\n",
      "\tdevice: cpu\n",
      "\tverbosity: -1\n",
      "\tearly_stopping_round: 15\n",
      "\tboosting_type: gbdt\n",
      "\tn_estimators: 540\n",
      "\tlearning_rate: 0.02\n",
      "\treg_alpha: 3.687775860273211\n",
      "\treg_lambda: 9.993624386421892\n",
      "\tnum_leaves: 338\n",
      "\tcolsample_bytree: 0.4153296968863259\n",
      "\tsubsample: 0.8131374963745043\n",
      "\tsubsample_freq: 5\n",
      "\tmin_child_samples: 31\n"
     ]
    }
   ],
   "source": [
    "# load best params\n",
    "best_params_path = f'{params_path}{cfg.modelname}.joblib'\n",
    "with open(best_params_path, 'rb') as file:\n",
    "    best_params = joblib.load(file)\n",
    "\n",
    "best_params['learning_rate'] = 0.02\n",
    "print(\"Final parameters:\")\n",
    "for k, v in best_params.items():\n",
    "    print(f\"\\t{k}: {v}\")"
   ]
  },
  {
   "cell_type": "code",
   "execution_count": 11,
   "metadata": {},
   "outputs": [],
   "source": [
    "# cv training and predict\n",
    "def train_model(train, valid, test, params):\n",
    "\n",
    "    start_time = time.time()\n",
    "    print(30*'*', f'Model: {cfg.modelname}', 30*'*', '\\n')\n",
    "\n",
    "    # get data\n",
    "    x = train[FEATURES]\n",
    "    y = train[TARGET]\n",
    "\n",
    "    # cv loop\n",
    "    cv = KFold(n_splits=cfg.nfolds, shuffle=True, random_state=cfg.seed)\n",
    "    preds, preds_val, cv_scores = [], [], []\n",
    "    for fold, (train_idx, test_idx) in enumerate(cv.split(x, y)):\n",
    "\n",
    "        print(f'fold {fold+1}/{cfg.nfolds}...')\n",
    "        fold_start_time = time.time()\n",
    "\n",
    "        # split data\n",
    "        x_train, x_val = x.iloc[train_idx], x.iloc[test_idx]\n",
    "        y_train, y_val = y.iloc[train_idx], y.iloc[test_idx]\n",
    "\n",
    "        # define and fit model\n",
    "        model = lgb.LGBMRegressor(**params)\n",
    "        model.fit(\n",
    "            x_train,\n",
    "            y_train,\n",
    "            eval_set = [(x_val, y_val)],\n",
    "            callbacks = [lgb.log_evaluation(200)],\n",
    "            eval_metric = ['root_mean_squared_error', 'mean_absolute_error'],\n",
    "        )\n",
    "\n",
    "        # validation score\n",
    "        cv_score = np.sqrt(mean_squared_error(y_val, model.predict(x_val)))\n",
    "        cv_scores.append(cv_score)\n",
    "\n",
    "        # predict validation and test set\n",
    "        preds_val.append(model.predict(valid[FEATURES]))\n",
    "        preds.append(model.predict(test))\n",
    "\n",
    "        fold_run_time = time.time() - fold_start_time\n",
    "        print(f'rmse: {cv_score:.4f}, run time: {fold_run_time:.2f}\\n')\n",
    "\n",
    "    # print results\n",
    "    run_time = time.time() - start_time\n",
    "    print(f'\\nTraining completed. Total run time: {run_time:2f}')\n",
    "    print(f'CV score:\\n\\t mean: {np.mean(cv_scores):0.6f}\\n\\t std: {np.std(cv_scores):0.6f}')\n",
    "\n",
    "    return (cv_scores, preds, preds_val)"
   ]
  },
  {
   "cell_type": "code",
   "execution_count": 12,
   "metadata": {},
   "outputs": [
    {
     "name": "stdout",
     "output_type": "stream",
     "text": [
      "****************************** Model: lgb ****************************** \n",
      "\n",
      "fold 1/5...\n",
      "[200]\tvalid_0's rmse: 0.514249\tvalid_0's l1: 0.35123\n",
      "[400]\tvalid_0's rmse: 0.502034\tvalid_0's l1: 0.337494\n",
      "rmse: 0.5004, run time: 9.24\n",
      "\n",
      "fold 2/5...\n",
      "[200]\tvalid_0's rmse: 0.520386\tvalid_0's l1: 0.351226\n",
      "[400]\tvalid_0's rmse: 0.509515\tvalid_0's l1: 0.338595\n",
      "rmse: 0.5085, run time: 11.05\n",
      "\n",
      "fold 3/5...\n",
      "[200]\tvalid_0's rmse: 0.51816\tvalid_0's l1: 0.358684\n",
      "[400]\tvalid_0's rmse: 0.505782\tvalid_0's l1: 0.345925\n",
      "rmse: 0.5042, run time: 11.43\n",
      "\n",
      "fold 4/5...\n",
      "[200]\tvalid_0's rmse: 0.499544\tvalid_0's l1: 0.341593\n",
      "[400]\tvalid_0's rmse: 0.487976\tvalid_0's l1: 0.327667\n",
      "rmse: 0.4868, run time: 11.86\n",
      "\n",
      "fold 5/5...\n",
      "[200]\tvalid_0's rmse: 0.508364\tvalid_0's l1: 0.347599\n",
      "[400]\tvalid_0's rmse: 0.496688\tvalid_0's l1: 0.333658\n",
      "rmse: 0.4953, run time: 11.34\n",
      "\n",
      "\n",
      "Training completed. Total run time: 54.932016\n",
      "CV score:\n",
      "\t mean: 0.499000\n",
      "\t std: 0.007499\n"
     ]
    }
   ],
   "source": [
    "# train model\n",
    "scores, preds, preds_val = train_model(train, valid, test, best_params)"
   ]
  },
  {
   "cell_type": "code",
   "execution_count": 13,
   "metadata": {},
   "outputs": [],
   "source": [
    "# get cv score and final predictions\n",
    "score = np.mean(scores)\n",
    "final_preds = np.mean(np.array(preds), axis=0)"
   ]
  },
  {
   "cell_type": "code",
   "execution_count": 14,
   "metadata": {},
   "outputs": [],
   "source": [
    "# save validation predictions\n",
    "final_preds_val = np.mean(np.array(preds_val), axis=0)\n",
    "val_path = './training_files/valid_preds/'\n",
    "os.makedirs(val_path, exist_ok=True)\n",
    "pd.Series(final_preds_val).to_csv(val_path + f'{cfg.modelname}.csv')"
   ]
  },
  {
   "cell_type": "code",
   "execution_count": 15,
   "metadata": {},
   "outputs": [],
   "source": [
    "# save predictions\n",
    "sub = pd.read_csv('../data/raw/sample_submission.csv', index_col=0)\n",
    "sub[TARGET] = final_preds\n",
    "sub.head()\n",
    "\n",
    "out_path = '../submissions/'\n",
    "os.makedirs(out_path, exist_ok=True)\n",
    "sub.to_csv(out_path + f'{cfg.modelname}.csv')"
   ]
  },
  {
   "attachments": {},
   "cell_type": "markdown",
   "metadata": {},
   "source": [
    "### DART boosting "
   ]
  },
  {
   "cell_type": "code",
   "execution_count": 16,
   "metadata": {},
   "outputs": [
    {
     "name": "stdout",
     "output_type": "stream",
     "text": [
      "Final parameters:\n",
      "\tobjective: regression\n",
      "\tmetric: rmse\n",
      "\tdevice: cpu\n",
      "\tverbosity: -1\n",
      "\tboosting_type: dart\n",
      "\tn_estimators: 540\n",
      "\tlearning_rate: 0.02\n",
      "\treg_alpha: 3.687775860273211\n",
      "\treg_lambda: 9.993624386421892\n",
      "\tnum_leaves: 338\n",
      "\tcolsample_bytree: 0.4153296968863259\n",
      "\tsubsample: 0.8131374963745043\n",
      "\tsubsample_freq: 5\n",
      "\tmin_child_samples: 31\n"
     ]
    }
   ],
   "source": [
    "# use dart boosting\n",
    "best_params['boosting_type'] = 'dart'\n",
    "best_params.pop('early_stopping_round')\n",
    "\n",
    "print(\"Final parameters:\")\n",
    "for k, v in best_params.items():\n",
    "    print(f\"\\t{k}: {v}\")"
   ]
  },
  {
   "cell_type": "code",
   "execution_count": 17,
   "metadata": {},
   "outputs": [
    {
     "name": "stdout",
     "output_type": "stream",
     "text": [
      "****************************** Model: lgb ****************************** \n",
      "\n",
      "fold 1/5...\n",
      "[200]\tvalid_0's rmse: 0.903674\tvalid_0's l1: 0.648589\n",
      "[400]\tvalid_0's rmse: 0.631119\tvalid_0's l1: 0.421809\n",
      "rmse: 0.5795, run time: 20.10\n",
      "\n",
      "fold 2/5...\n",
      "[200]\tvalid_0's rmse: 0.914123\tvalid_0's l1: 0.658512\n",
      "[400]\tvalid_0's rmse: 0.640903\tvalid_0's l1: 0.427284\n",
      "rmse: 0.5888, run time: 24.36\n",
      "\n",
      "fold 3/5...\n",
      "[200]\tvalid_0's rmse: 0.920668\tvalid_0's l1: 0.666716\n",
      "[400]\tvalid_0's rmse: 0.643094\tvalid_0's l1: 0.434025\n",
      "rmse: 0.5885, run time: 25.35\n",
      "\n",
      "fold 4/5...\n",
      "[200]\tvalid_0's rmse: 0.898699\tvalid_0's l1: 0.642739\n",
      "[400]\tvalid_0's rmse: 0.624203\tvalid_0's l1: 0.416601\n",
      "rmse: 0.5702, run time: 20.25\n",
      "\n",
      "fold 5/5...\n",
      "[200]\tvalid_0's rmse: 0.920179\tvalid_0's l1: 0.667164\n",
      "[400]\tvalid_0's rmse: 0.638948\tvalid_0's l1: 0.43008\n",
      "rmse: 0.5833, run time: 23.53\n",
      "\n",
      "\n",
      "Training completed. Total run time: 113.607406\n",
      "CV score:\n",
      "\t mean: 0.582069\n",
      "\t std: 0.006859\n"
     ]
    }
   ],
   "source": [
    "# train model\n",
    "scores, preds, preds_val = train_model(train, valid, test, best_params)"
   ]
  },
  {
   "cell_type": "code",
   "execution_count": 18,
   "metadata": {},
   "outputs": [],
   "source": [
    "# get cv score and final predictions\n",
    "score = np.mean(scores)\n",
    "final_preds = np.mean(np.array(preds), axis=0)"
   ]
  },
  {
   "cell_type": "code",
   "execution_count": 19,
   "metadata": {},
   "outputs": [],
   "source": [
    "# save validation predictions\n",
    "final_preds_val = np.mean(np.array(preds_val), axis=0)\n",
    "val_path = './training_files/valid_preds/'\n",
    "os.makedirs(val_path, exist_ok=True)\n",
    "pd.Series(final_preds_val).to_csv(val_path + f'{cfg.modelname}_dart.csv')"
   ]
  },
  {
   "cell_type": "code",
   "execution_count": 20,
   "metadata": {},
   "outputs": [],
   "source": [
    "# save predictions\n",
    "sub = pd.read_csv('../data/raw/sample_submission.csv', index_col=0)\n",
    "sub[TARGET] = final_preds\n",
    "sub.head()\n",
    "\n",
    "out_path = '../submissions/'\n",
    "os.makedirs(out_path, exist_ok=True)\n",
    "sub.to_csv(out_path + f'{cfg.modelname}_dart.csv')"
   ]
  }
 ],
 "metadata": {
  "kernelspec": {
   "display_name": "env",
   "language": "python",
   "name": "python3"
  },
  "language_info": {
   "codemirror_mode": {
    "name": "ipython",
    "version": 3
   },
   "file_extension": ".py",
   "mimetype": "text/x-python",
   "name": "python",
   "nbconvert_exporter": "python",
   "pygments_lexer": "ipython3",
   "version": "3.10.5"
  },
  "orig_nbformat": 4,
  "vscode": {
   "interpreter": {
    "hash": "b94cdfffcc6f6f3237d201e414566911455475e8fe8860b009b063936548ab37"
   }
  }
 },
 "nbformat": 4,
 "nbformat_minor": 2
}

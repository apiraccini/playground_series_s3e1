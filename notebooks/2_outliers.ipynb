{
 "cells": [
  {
   "attachments": {},
   "cell_type": "markdown",
   "metadata": {},
   "source": [
    "# Isolation forest for outlier detection"
   ]
  },
  {
   "cell_type": "code",
   "execution_count": 1,
   "metadata": {},
   "outputs": [
    {
     "name": "stdout",
     "output_type": "stream",
     "text": [
      "Windows-10-10.0.19045-SP0\n",
      "Python 3.10.5 (tags/v3.10.5:f377153, Jun  6 2022, 16:14:13) [MSC v.1929 64 bit (AMD64)]\n"
     ]
    }
   ],
   "source": [
    "import platform; print(platform.platform())\n",
    "import sys; print(\"Python\", sys.version)"
   ]
  },
  {
   "attachments": {},
   "cell_type": "markdown",
   "metadata": {},
   "source": [
    "## Load data"
   ]
  },
  {
   "cell_type": "code",
   "execution_count": 2,
   "metadata": {},
   "outputs": [],
   "source": [
    "import numpy as np\n",
    "import pandas as pd\n",
    "import os\n",
    "\n",
    "import matplotlib.pyplot as plt \n",
    "import seaborn as sns\n",
    "sns.set_theme(style='darkgrid', palette='Set1')\n",
    "\n",
    "from sklearn.ensemble import IsolationForest, HistGradientBoostingRegressor\n",
    "from sklearn.model_selection import  KFold, train_test_split\n",
    "from sklearn.metrics import mean_squared_error, mean_absolute_error"
   ]
  },
  {
   "cell_type": "code",
   "execution_count": 3,
   "metadata": {},
   "outputs": [],
   "source": [
    "class cfg:\n",
    "    seed = 42\n",
    "    nfolds = 5\n",
    "    njobs = 2"
   ]
  },
  {
   "cell_type": "code",
   "execution_count": 4,
   "metadata": {},
   "outputs": [
    {
     "data": {
      "text/html": [
       "<div>\n",
       "<style scoped>\n",
       "    .dataframe tbody tr th:only-of-type {\n",
       "        vertical-align: middle;\n",
       "    }\n",
       "\n",
       "    .dataframe tbody tr th {\n",
       "        vertical-align: top;\n",
       "    }\n",
       "\n",
       "    .dataframe thead th {\n",
       "        text-align: right;\n",
       "    }\n",
       "</style>\n",
       "<table border=\"1\" class=\"dataframe\">\n",
       "  <thead>\n",
       "    <tr style=\"text-align: right;\">\n",
       "      <th></th>\n",
       "      <th>MedInc</th>\n",
       "      <th>HouseAge</th>\n",
       "      <th>AveRooms</th>\n",
       "      <th>AveBedrms</th>\n",
       "      <th>Population</th>\n",
       "      <th>AveOccup</th>\n",
       "      <th>Latitude</th>\n",
       "      <th>Longitude</th>\n",
       "      <th>MedHouseVal</th>\n",
       "    </tr>\n",
       "  </thead>\n",
       "  <tbody>\n",
       "    <tr>\n",
       "      <th>0</th>\n",
       "      <td>2.3859</td>\n",
       "      <td>15.0</td>\n",
       "      <td>3.827160</td>\n",
       "      <td>1.112100</td>\n",
       "      <td>1280.0</td>\n",
       "      <td>2.486989</td>\n",
       "      <td>34.60</td>\n",
       "      <td>-120.12</td>\n",
       "      <td>0.980</td>\n",
       "    </tr>\n",
       "    <tr>\n",
       "      <th>1</th>\n",
       "      <td>3.7188</td>\n",
       "      <td>17.0</td>\n",
       "      <td>6.013373</td>\n",
       "      <td>1.054217</td>\n",
       "      <td>1504.0</td>\n",
       "      <td>3.813084</td>\n",
       "      <td>38.69</td>\n",
       "      <td>-121.22</td>\n",
       "      <td>0.946</td>\n",
       "    </tr>\n",
       "    <tr>\n",
       "      <th>2</th>\n",
       "      <td>4.7750</td>\n",
       "      <td>27.0</td>\n",
       "      <td>6.535604</td>\n",
       "      <td>1.103175</td>\n",
       "      <td>1061.0</td>\n",
       "      <td>2.464602</td>\n",
       "      <td>34.71</td>\n",
       "      <td>-120.45</td>\n",
       "      <td>1.576</td>\n",
       "    </tr>\n",
       "    <tr>\n",
       "      <th>3</th>\n",
       "      <td>2.4138</td>\n",
       "      <td>16.0</td>\n",
       "      <td>3.350203</td>\n",
       "      <td>0.965432</td>\n",
       "      <td>1255.0</td>\n",
       "      <td>2.089286</td>\n",
       "      <td>32.66</td>\n",
       "      <td>-117.09</td>\n",
       "      <td>1.336</td>\n",
       "    </tr>\n",
       "    <tr>\n",
       "      <th>4</th>\n",
       "      <td>3.7500</td>\n",
       "      <td>52.0</td>\n",
       "      <td>4.284404</td>\n",
       "      <td>1.069246</td>\n",
       "      <td>1793.0</td>\n",
       "      <td>1.604790</td>\n",
       "      <td>37.80</td>\n",
       "      <td>-122.41</td>\n",
       "      <td>4.500</td>\n",
       "    </tr>\n",
       "  </tbody>\n",
       "</table>\n",
       "</div>"
      ],
      "text/plain": [
       "   MedInc  HouseAge  AveRooms  AveBedrms  Population  AveOccup  Latitude  \\\n",
       "0  2.3859      15.0  3.827160   1.112100      1280.0  2.486989     34.60   \n",
       "1  3.7188      17.0  6.013373   1.054217      1504.0  3.813084     38.69   \n",
       "2  4.7750      27.0  6.535604   1.103175      1061.0  2.464602     34.71   \n",
       "3  2.4138      16.0  3.350203   0.965432      1255.0  2.089286     32.66   \n",
       "4  3.7500      52.0  4.284404   1.069246      1793.0  1.604790     37.80   \n",
       "\n",
       "   Longitude  MedHouseVal  \n",
       "0    -120.12        0.980  \n",
       "1    -121.22        0.946  \n",
       "2    -120.45        1.576  \n",
       "3    -117.09        1.336  \n",
       "4    -122.41        4.500  "
      ]
     },
     "execution_count": 4,
     "metadata": {},
     "output_type": "execute_result"
    }
   ],
   "source": [
    "# load data\n",
    "train = pd.read_csv('../data/raw/train.csv', index_col=0).reset_index(drop=True)\n",
    "train_comb = pd.read_csv('../data/extra/train_comb.csv')\n",
    "train_orig = pd.read_csv('../data/extra/train_orig.csv')\n",
    "\n",
    "train.head()"
   ]
  },
  {
   "cell_type": "code",
   "execution_count": 5,
   "metadata": {},
   "outputs": [
    {
     "name": "stdout",
     "output_type": "stream",
     "text": [
      "Target: MedHouseVal\n",
      "Features: ['MedInc', 'HouseAge', 'AveRooms', 'AveBedrms', 'Population', 'AveOccup', 'Latitude', 'Longitude']\n",
      "Train set shape: (37137, 9)\n",
      "Combined train set shape: (57777, 10)\n"
     ]
    }
   ],
   "source": [
    "# quick info\n",
    "TARGET = 'MedHouseVal'\n",
    "FEATURES = [c for c in train.columns if c not in [TARGET]]\n",
    "\n",
    "print(f'Target: {TARGET}\\nFeatures: {FEATURES}')\n",
    "print('Train set shape:', train.shape)\n",
    "print('Combined train set shape:', train_comb.shape)\n",
    "\n",
    "x = train.drop(TARGET, axis=1)"
   ]
  },
  {
   "attachments": {},
   "cell_type": "markdown",
   "metadata": {},
   "source": [
    "## Isolation Forest"
   ]
  },
  {
   "cell_type": "code",
   "execution_count": 6,
   "metadata": {},
   "outputs": [],
   "source": [
    "# isolation forest for outlier detection\n",
    "iso = IsolationForest(\n",
    "    n_estimators=1000,\n",
    "    max_samples=0.3,\n",
    "    contamination='auto',\n",
    "    verbose=0,\n",
    "    n_jobs=cfg.njobs,\n",
    "    random_state=cfg.seed\n",
    ")\n",
    "\n",
    "_ = iso.fit(x)"
   ]
  },
  {
   "cell_type": "code",
   "execution_count": 7,
   "metadata": {},
   "outputs": [
    {
     "name": "stdout",
     "output_type": "stream",
     "text": [
      "The amount of predicted outliers in the train set is 458 (1.23%)\n"
     ]
    }
   ],
   "source": [
    "# predict scores and outliers\n",
    "scores = iso.score_samples(x)\n",
    "isin = iso.predict(x)\n",
    "\n",
    "print(f'The amount of predicted outliers in the train set is {sum(isin==-1)} ({sum(isin==-1)/train.shape[0]:.2%})')"
   ]
  },
  {
   "cell_type": "code",
   "execution_count": 8,
   "metadata": {},
   "outputs": [
    {
     "data": {
      "text/plain": [
       "<AxesSubplot: ylabel='Count'>"
      ]
     },
     "execution_count": 8,
     "metadata": {},
     "output_type": "execute_result"
    },
    {
     "data": {
      "image/png": "[encoded data removed]",
      "text/plain": [
       "<Figure size 640x480 with 1 Axes>"
      ]
     },
     "metadata": {},
     "output_type": "display_data"
    }
   ],
   "source": [
    "sns.histplot(scores, bins=40, kde=True)"
   ]
  },
  {
   "cell_type": "code",
   "execution_count": 9,
   "metadata": {},
   "outputs": [
    {
     "data": {
      "text/plain": [
       "<AxesSubplot: ylabel='MedHouseVal'>"
      ]
     },
     "execution_count": 9,
     "metadata": {},
     "output_type": "execute_result"
    },
    {
     "data": {
      "image/png": "[encoded data removed]",
      "text/plain": [
       "<Figure size 640x480 with 1 Axes>"
      ]
     },
     "metadata": {},
     "output_type": "display_data"
    }
   ],
   "source": [
    "sns.violinplot(data=train, x=isin, y=TARGET)"
   ]
  },
  {
   "cell_type": "code",
   "execution_count": 10,
   "metadata": {},
   "outputs": [
    {
     "name": "stdout",
     "output_type": "stream",
     "text": [
      "Target correlation with anomaly scores on train test is -0.0718\n"
     ]
    }
   ],
   "source": [
    "# correlation with response\n",
    "c = np.corrcoef(train[TARGET], scores)[0][1]\n",
    "print(f'Target correlation with anomaly scores on train test is {c:.4f}')"
   ]
  },
  {
   "cell_type": "code",
   "execution_count": 11,
   "metadata": {},
   "outputs": [
    {
     "data": {
      "text/plain": [
       "MedInc        0.701925\n",
       "HouseAge      0.103210\n",
       "AveRooms      0.366727\n",
       "AveBedrms    -0.067487\n",
       "Population   -0.038479\n",
       "AveOccup     -0.048475\n",
       "Latitude     -0.116499\n",
       "Longitude    -0.056742\n",
       "dtype: float64"
      ]
     },
     "execution_count": 11,
     "metadata": {},
     "output_type": "execute_result"
    }
   ],
   "source": [
    "# other vars\n",
    "train[FEATURES].corrwith(train[TARGET])"
   ]
  },
  {
   "attachments": {},
   "cell_type": "markdown",
   "metadata": {},
   "source": [
    "## Does the prediction improve?"
   ]
  },
  {
   "cell_type": "code",
   "execution_count": 12,
   "metadata": {},
   "outputs": [],
   "source": [
    "# split synthetic train data\n",
    "x, x_val, y, y_val = train_test_split(\n",
    "    train.drop(columns=TARGET), train[TARGET],\n",
    "    test_size=0.25,\n",
    "    random_state=cfg.seed\n",
    ")\n",
    "\n",
    "# define cv\n",
    "cv = KFold(n_splits=cfg.nfolds, shuffle=True, random_state=cfg.seed)"
   ]
  },
  {
   "cell_type": "code",
   "execution_count": 13,
   "metadata": {},
   "outputs": [
    {
     "name": "stdout",
     "output_type": "stream",
     "text": [
      "Doing fold 1/5...\n",
      "\tBaseline model...\n",
      "\tFit isolation forest...\n",
      "\tModel without outliers...\n",
      "\tModel with anomaly score...\n",
      "\tBaseline model with original data added to the train set...\n",
      "\tFit isolation forest on combined data...\n",
      "\tModel without outliers on combined data...\n",
      "\tModel with anomaly score on combined data...\n",
      "Doing fold 2/5...\n",
      "\tBaseline model...\n",
      "\tFit isolation forest...\n",
      "\tModel without outliers...\n",
      "\tModel with anomaly score...\n",
      "\tBaseline model with original data added to the train set...\n",
      "\tFit isolation forest on combined data...\n",
      "\tModel without outliers on combined data...\n",
      "\tModel with anomaly score on combined data...\n",
      "Doing fold 3/5...\n",
      "\tBaseline model...\n",
      "\tFit isolation forest...\n",
      "\tModel without outliers...\n",
      "\tModel with anomaly score...\n",
      "\tBaseline model with original data added to the train set...\n",
      "\tFit isolation forest on combined data...\n",
      "\tModel without outliers on combined data...\n",
      "\tModel with anomaly score on combined data...\n",
      "Doing fold 4/5...\n",
      "\tBaseline model...\n",
      "\tFit isolation forest...\n",
      "\tModel without outliers...\n",
      "\tModel with anomaly score...\n",
      "\tBaseline model with original data added to the train set...\n",
      "\tFit isolation forest on combined data...\n",
      "\tModel without outliers on combined data...\n",
      "\tModel with anomaly score on combined data...\n",
      "Doing fold 5/5...\n",
      "\tBaseline model...\n",
      "\tFit isolation forest...\n",
      "\tModel without outliers...\n",
      "\tModel with anomaly score...\n",
      "\tBaseline model with original data added to the train set...\n",
      "\tFit isolation forest on combined data...\n",
      "\tModel without outliers on combined data...\n",
      "\tModel with anomaly score on combined data...\n"
     ]
    }
   ],
   "source": [
    "# try different combinations\n",
    "results = {\n",
    "    'baseline':[],\n",
    "    'no_outliers':[],\n",
    "    'with_anomaly_score':[],\n",
    "    'combined_data':[],\n",
    "    'no_outliers_combined_data':[],\n",
    "    'with_anomaly_score_combined_data':[]}\n",
    "\n",
    "for fold, (train_idx, val_idx) in enumerate(cv.split(x, y)):\n",
    "\n",
    "    print(f'Doing fold {fold+1}/{cfg.nfolds}...')\n",
    "\n",
    "    # split data\n",
    "    x_train, x_val = x.iloc[train_idx], x.iloc[val_idx]\n",
    "    y_train, y_val = y.iloc[train_idx], y.iloc[val_idx]\n",
    "\n",
    "    # baseline\n",
    "    print('\\tBaseline model...')\n",
    "    model = HistGradientBoostingRegressor(random_state=cfg.seed)\n",
    "    model.fit(x_train, y_train)\n",
    "    results['baseline'].append(mean_squared_error(y_val, model.predict(x_val)))\n",
    "\n",
    "    # isolation forest\n",
    "    print('\\tFit isolation forest...')\n",
    "    iso_fitted = iso.fit(x_train)\n",
    "    scores = iso.score_samples(x_train)\n",
    "    scores_val = iso.score_samples(x_val)\n",
    "    isin = iso.predict(x_train)\n",
    "    #isin_val = iso.predict(x_val)\n",
    "\n",
    "    # without outliers\n",
    "    print('\\tModel without outliers...')\n",
    "    model.fit(x_train.iloc[isin==1], y_train.iloc[isin==1])\n",
    "    results['no_outliers'].append(mean_squared_error(y_val, model.predict(x_val)))\n",
    "\n",
    "    # with anomaly score\n",
    "    print('\\tModel with anomaly score...')\n",
    "    x2, x2_val = x_train.copy(), x_val.copy()\n",
    "    x2['AnomalyScore'], x2_val['AnomalyScore'] = scores, scores_val\n",
    "    model.fit(x2, y_train)\n",
    "    results['with_anomaly_score'].append(mean_squared_error(y_val, model.predict(x2_val)))\n",
    "\n",
    "    # with original data added\n",
    "    x3 = pd.concat([x_train, train_orig[FEATURES]], axis=0)\n",
    "    x3_val = x_val.copy()\n",
    "    x3['IsSynthetic'] = [1.0]*len(x_train) + [0.0]*len(train_orig)\n",
    "    x3_val['IsSynthetic'] = 1.0\n",
    "    y3 = pd.concat([y_train, train_orig[TARGET]], axis=0) \n",
    "    \n",
    "    print('\\tBaseline model with original data added to the train set...')\n",
    "    model = HistGradientBoostingRegressor(random_state=cfg.seed)\n",
    "    model.fit(x3, y3)\n",
    "    results['combined_data'].append(mean_squared_error(y_val, model.predict(x3_val)))\n",
    "\n",
    "    # isolation forest\n",
    "    print('\\tFit isolation forest on combined data...')\n",
    "    iso_fitted = iso.fit(x3.loc[x3['IsSynthetic']==1])\n",
    "    scores = iso.score_samples(x3)\n",
    "    scores_val = iso.score_samples(x3_val)\n",
    "    isin = iso.predict(x3)\n",
    "\n",
    "    # without outliers\n",
    "    print('\\tModel without outliers on combined data...')\n",
    "    model.fit(x3.iloc[isin==1], y3.iloc[isin==1])\n",
    "    results['no_outliers_combined_data'].append(mean_squared_error(y_val, model.predict(x3_val)))\n",
    "\n",
    "    # with anomaly score\n",
    "    print('\\tModel with anomaly score on combined data...')\n",
    "    x3['AnomalyScore'], x3_val['AnomalyScore'] = scores, scores_val\n",
    "    model.fit(x3, y3)\n",
    "    results['with_anomaly_score_combined_data'].append(mean_squared_error(y_val, model.predict(x3_val)))"
   ]
  },
  {
   "cell_type": "code",
   "execution_count": 14,
   "metadata": {},
   "outputs": [
    {
     "data": {
      "text/html": [
       "<div>\n",
       "<style scoped>\n",
       "    .dataframe tbody tr th:only-of-type {\n",
       "        vertical-align: middle;\n",
       "    }\n",
       "\n",
       "    .dataframe tbody tr th {\n",
       "        vertical-align: top;\n",
       "    }\n",
       "\n",
       "    .dataframe thead th {\n",
       "        text-align: right;\n",
       "    }\n",
       "</style>\n",
       "<table border=\"1\" class=\"dataframe\">\n",
       "  <thead>\n",
       "    <tr style=\"text-align: right;\">\n",
       "      <th></th>\n",
       "      <th>cv_mean</th>\n",
       "      <th>cv_sd</th>\n",
       "    </tr>\n",
       "  </thead>\n",
       "  <tbody>\n",
       "    <tr>\n",
       "      <th>combined_data</th>\n",
       "      <td>0.564202</td>\n",
       "      <td>0.005306</td>\n",
       "    </tr>\n",
       "    <tr>\n",
       "      <th>with_anomaly_score_combined_data</th>\n",
       "      <td>0.564234</td>\n",
       "      <td>0.005671</td>\n",
       "    </tr>\n",
       "    <tr>\n",
       "      <th>no_outliers_combined_data</th>\n",
       "      <td>0.564260</td>\n",
       "      <td>0.005935</td>\n",
       "    </tr>\n",
       "    <tr>\n",
       "      <th>no_outliers</th>\n",
       "      <td>0.568222</td>\n",
       "      <td>0.007273</td>\n",
       "    </tr>\n",
       "    <tr>\n",
       "      <th>baseline</th>\n",
       "      <td>0.568225</td>\n",
       "      <td>0.006415</td>\n",
       "    </tr>\n",
       "    <tr>\n",
       "      <th>with_anomaly_score</th>\n",
       "      <td>0.569068</td>\n",
       "      <td>0.005550</td>\n",
       "    </tr>\n",
       "  </tbody>\n",
       "</table>\n",
       "</div>"
      ],
      "text/plain": [
       "                                   cv_mean     cv_sd\n",
       "combined_data                     0.564202  0.005306\n",
       "with_anomaly_score_combined_data  0.564234  0.005671\n",
       "no_outliers_combined_data         0.564260  0.005935\n",
       "no_outliers                       0.568222  0.007273\n",
       "baseline                          0.568225  0.006415\n",
       "with_anomaly_score                0.569068  0.005550"
      ]
     },
     "execution_count": 14,
     "metadata": {},
     "output_type": "execute_result"
    }
   ],
   "source": [
    "# obtain cv results\n",
    "tmp = pd.DataFrame(results)**(1/2)\n",
    "res_df = pd.DataFrame({\n",
    "    'cv_mean': tmp.mean(axis=0), \n",
    "    'cv_sd': tmp.std(axis=0)}\n",
    ")\n",
    "\n",
    "res_df.sort_values(by='cv_mean')"
   ]
  }
 ],
 "metadata": {
  "kernelspec": {
   "display_name": "Python 3",
   "language": "python",
   "name": "python3"
  },
  "language_info": {
   "codemirror_mode": {
    "name": "ipython",
    "version": 3
   },
   "file_extension": ".py",
   "mimetype": "text/x-python",
   "name": "python",
   "nbconvert_exporter": "python",
   "pygments_lexer": "ipython3",
   "version": "3.10.5"
  },
  "orig_nbformat": 4,
  "vscode": {
   "interpreter": {
    "hash": "369f2c481f4da34e4445cda3fffd2e751bd1c4d706f27375911949ba6bb62e1c"
   }
  }
 },
 "nbformat": 4,
 "nbformat_minor": 2
}

{
 "cells": [
  {
   "cell_type": "code",
   "execution_count": 1,
   "metadata": {},
   "outputs": [],
   "source": [
    "import numpy as np\n",
    "import pandas as pd\n",
    "import glob\n",
    "import os\n",
    "\n",
    "from sklearn.linear_model import ElasticNetCV\n",
    "from sklearn.model_selection import KFold, cross_validate"
   ]
  },
  {
   "cell_type": "code",
   "execution_count": 2,
   "metadata": {},
   "outputs": [
    {
     "name": "stdout",
     "output_type": "stream",
     "text": [
      "Stacking dataset info:\n",
      "Valid shape: (14855, 6)\tTest shape: (24759, 5)\n"
     ]
    },
    {
     "data": {
      "text/html": [
       "<div>\n",
       "<style scoped>\n",
       "    .dataframe tbody tr th:only-of-type {\n",
       "        vertical-align: middle;\n",
       "    }\n",
       "\n",
       "    .dataframe tbody tr th {\n",
       "        vertical-align: top;\n",
       "    }\n",
       "\n",
       "    .dataframe thead th {\n",
       "        text-align: right;\n",
       "    }\n",
       "</style>\n",
       "<table border=\"1\" class=\"dataframe\">\n",
       "  <thead>\n",
       "    <tr style=\"text-align: right;\">\n",
       "      <th></th>\n",
       "      <th>catboost</th>\n",
       "      <th>lgb</th>\n",
       "      <th>lgb_dart</th>\n",
       "      <th>randomforest</th>\n",
       "      <th>xtrees</th>\n",
       "      <th>MedHouseVal</th>\n",
       "    </tr>\n",
       "  </thead>\n",
       "  <tbody>\n",
       "    <tr>\n",
       "      <th>0</th>\n",
       "      <td>1.339446</td>\n",
       "      <td>1.434472</td>\n",
       "      <td>1.288268</td>\n",
       "      <td>1.426714</td>\n",
       "      <td>1.444429</td>\n",
       "      <td>0.946</td>\n",
       "    </tr>\n",
       "    <tr>\n",
       "      <th>1</th>\n",
       "      <td>2.654929</td>\n",
       "      <td>2.230659</td>\n",
       "      <td>1.979263</td>\n",
       "      <td>2.373727</td>\n",
       "      <td>2.319483</td>\n",
       "      <td>1.576</td>\n",
       "    </tr>\n",
       "    <tr>\n",
       "      <th>2</th>\n",
       "      <td>3.038709</td>\n",
       "      <td>2.960533</td>\n",
       "      <td>2.646760</td>\n",
       "      <td>3.087200</td>\n",
       "      <td>3.136938</td>\n",
       "      <td>2.291</td>\n",
       "    </tr>\n",
       "    <tr>\n",
       "      <th>3</th>\n",
       "      <td>1.254343</td>\n",
       "      <td>1.212730</td>\n",
       "      <td>1.102090</td>\n",
       "      <td>1.220702</td>\n",
       "      <td>1.304687</td>\n",
       "      <td>1.393</td>\n",
       "    </tr>\n",
       "    <tr>\n",
       "      <th>4</th>\n",
       "      <td>3.243742</td>\n",
       "      <td>3.521457</td>\n",
       "      <td>3.019146</td>\n",
       "      <td>3.225335</td>\n",
       "      <td>3.168902</td>\n",
       "      <td>2.092</td>\n",
       "    </tr>\n",
       "  </tbody>\n",
       "</table>\n",
       "</div>"
      ],
      "text/plain": [
       "   catboost       lgb  lgb_dart  randomforest    xtrees  MedHouseVal\n",
       "0  1.339446  1.434472  1.288268      1.426714  1.444429        0.946\n",
       "1  2.654929  2.230659  1.979263      2.373727  2.319483        1.576\n",
       "2  3.038709  2.960533  2.646760      3.087200  3.136938        2.291\n",
       "3  1.254343  1.212730  1.102090      1.220702  1.304687        1.393\n",
       "4  3.243742  3.521457  3.019146      3.225335  3.168902        2.092"
      ]
     },
     "execution_count": 2,
     "metadata": {},
     "output_type": "execute_result"
    }
   ],
   "source": [
    "# prepare data\n",
    "\n",
    "# validation predictions\n",
    "files = glob.glob('./training_files/valid_preds/*.csv')\n",
    "modelnames = [f.split('\\\\')[1].split('.')[0] for f in files]\n",
    "dfs = [pd.read_csv(f, index_col=0).reset_index(drop=True) for f in files]\n",
    "\n",
    "df = pd.concat(dfs, axis=1)\n",
    "df.columns = modelnames\n",
    "\n",
    "# test predictions\n",
    "files = glob.glob('../submissions/*.csv')\n",
    "modelnames = [f.split('\\\\')[1].split('.')[0] for f in files]\n",
    "dfs_test = [pd.read_csv(f, index_col=0).reset_index(drop=True) for f in files]\n",
    "\n",
    "df_test = pd.concat(dfs_test, axis=1)\n",
    "df_test.columns = modelnames\n",
    "if 'stacking' in df_test.columns:\n",
    "    df_test.drop(columns='stacking', inplace=True)\n",
    "    modelnames.remove('stacking')\n",
    "\n",
    "# load validation set\n",
    "valid = pd.read_csv('../data/final/valid.csv')\n",
    "TARGET = 'MedHouseVal'\n",
    "FEATURES = modelnames\n",
    "df[TARGET] = valid[TARGET]\n",
    "\n",
    "print('Stacking dataset info:')\n",
    "print(f'Valid shape: {df.shape}\\tTest shape: {df_test.shape}')\n",
    "df.head()"
   ]
  },
  {
   "cell_type": "code",
   "execution_count": 3,
   "metadata": {},
   "outputs": [],
   "source": [
    "class cfg:\n",
    "    seed = 42\n",
    "    nfolds = 5\n",
    "    njobs = 4\n",
    "\n",
    "cv = KFold(n_splits=cfg.nfolds, shuffle=True, random_state=cfg.seed)"
   ]
  },
  {
   "cell_type": "code",
   "execution_count": 4,
   "metadata": {},
   "outputs": [
    {
     "name": "stdout",
     "output_type": "stream",
     "text": [
      "Stacking linear model, CV RMSE: 0.5467\n"
     ]
    }
   ],
   "source": [
    "# stacking linear model\n",
    "model = ElasticNetCV(\n",
    "    l1_ratio = [.1, .2, .3, .5, .7, .8, .9, .95, .99, 1],\n",
    "    n_alphas = 200,\n",
    "    fit_intercept = False,\n",
    "    cv = cv,\n",
    "    random_state = cfg.seed,\n",
    "    n_jobs = cfg.njobs)\n",
    "\n",
    "scores = cross_validate(model, df[FEATURES], df[TARGET], cv=cv, scoring='neg_mean_squared_error')\n",
    "score = np.mean(np.sqrt(-scores['test_score']))\n",
    "print(f'Stacking linear model, CV RMSE: {score:.4f}')"
   ]
  },
  {
   "cell_type": "code",
   "execution_count": 5,
   "metadata": {},
   "outputs": [
    {
     "name": "stdout",
     "output_type": "stream",
     "text": [
      "[0.12933931 0.86781725 0.         0.         0.        ]\n"
     ]
    }
   ],
   "source": [
    "# final model and predictions\n",
    "final_model = model.fit(df[FEATURES], df[TARGET])\n",
    "print(final_model.coef_)\n",
    "\n",
    "final_preds = model.predict(df_test)"
   ]
  },
  {
   "cell_type": "code",
   "execution_count": 6,
   "metadata": {},
   "outputs": [],
   "source": [
    "# save predictions\n",
    "sub = pd.read_csv('../data/raw/sample_submission.csv', index_col=0)\n",
    "sub[TARGET] = final_preds\n",
    "sub.head()\n",
    "\n",
    "out_path = '../submissions/'\n",
    "os.makedirs(out_path, exist_ok=True)\n",
    "sub.to_csv(out_path + f'stacking.csv')"
   ]
  }
 ],
 "metadata": {
  "kernelspec": {
   "display_name": "env",
   "language": "python",
   "name": "python3"
  },
  "language_info": {
   "codemirror_mode": {
    "name": "ipython",
    "version": 3
   },
   "file_extension": ".py",
   "mimetype": "text/x-python",
   "name": "python",
   "nbconvert_exporter": "python",
   "pygments_lexer": "ipython3",
   "version": "3.10.5"
  },
  "orig_nbformat": 4,
  "vscode": {
   "interpreter": {
    "hash": "b94cdfffcc6f6f3237d201e414566911455475e8fe8860b009b063936548ab37"
   }
  }
 },
 "nbformat": 4,
 "nbformat_minor": 2
}

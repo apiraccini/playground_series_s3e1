{
 "cells": [
  {
   "attachments": {},
   "cell_type": "markdown",
   "metadata": {},
   "source": [
    "# Isolation forest for outlier detection"
   ]
  },
  {
   "cell_type": "code",
   "execution_count": null,
   "metadata": {},
   "outputs": [],
   "source": [
    "import platform; print(platform.platform())\n",
    "import sys; print(\"Python\", sys.version)"
   ]
  },
  {
   "attachments": {},
   "cell_type": "markdown",
   "metadata": {},
   "source": [
    "## Load data"
   ]
  },
  {
   "cell_type": "code",
   "execution_count": null,
   "metadata": {},
   "outputs": [],
   "source": [
    "import numpy as np\n",
    "import pandas as pd\n",
    "import os\n",
    "\n",
    "import matplotlib.pyplot as plt \n",
    "import seaborn as sns\n",
    "sns.set_theme(style='darkgrid', palette='plasma')\n",
    "\n",
    "from sklearn.ensemble import IsolationForest, HistGradientBoostingRegressor\n",
    "from sklearn.model_selection import cross_validate, KFold\n",
    "from sklearn.metrics import mean_squared_error, mean_absolute_error"
   ]
  },
  {
   "cell_type": "code",
   "execution_count": null,
   "metadata": {},
   "outputs": [],
   "source": [
    "class cfg:\n",
    "    seed = 42\n",
    "    nfolds = 10\n",
    "    njobs = 2"
   ]
  },
  {
   "cell_type": "code",
   "execution_count": null,
   "metadata": {},
   "outputs": [],
   "source": [
    "# load data\n",
    "train = pd.read_csv('../data/raw/train.csv', index_col=0)\n",
    "train_comb = pd.read_csv('../data/extra/train_comb.csv')\n",
    "\n",
    "train.head()"
   ]
  },
  {
   "cell_type": "code",
   "execution_count": null,
   "metadata": {},
   "outputs": [],
   "source": [
    "# quick info\n",
    "TARGET = 'MedHouseVal'\n",
    "FEATURES = [c for c in train.columns if c not in [TARGET]]\n",
    "\n",
    "print(f'Target: {TARGET}\\nFeatures: {FEATURES}')\n",
    "print('Train set shape:', train.shape)\n",
    "print('Combined train set shape:', train_comb.shape)\n",
    "\n",
    "x = train.drop(TARGET, axis=1)"
   ]
  },
  {
   "attachments": {},
   "cell_type": "markdown",
   "metadata": {},
   "source": [
    "## Isolation Forest"
   ]
  },
  {
   "cell_type": "code",
   "execution_count": null,
   "metadata": {},
   "outputs": [],
   "source": [
    "# isolation forest for outlier detection\n",
    "iso = IsolationForest(\n",
    "    n_estimators=500,\n",
    "    max_samples=0.3,\n",
    "    contamination='auto',\n",
    "    verbose=0,\n",
    "    n_jobs=cfg.njobs,\n",
    "    random_state=cfg.seed\n",
    ")\n",
    "\n",
    "_ = iso.fit(x)"
   ]
  },
  {
   "cell_type": "code",
   "execution_count": null,
   "metadata": {},
   "outputs": [],
   "source": [
    "# predict scores and utliers\n",
    "scores = iso.score_samples(x)\n",
    "isin = iso.predict(x)\n",
    "\n",
    "print(f'The amount of predicted outliers in the train set is {sum(isin==-1)} ({sum(isin==-1)/train.shape[0]:.2%})')"
   ]
  },
  {
   "cell_type": "code",
   "execution_count": null,
   "metadata": {},
   "outputs": [],
   "source": [
    "sns.histplot(scores, bins=40, kde=True)"
   ]
  },
  {
   "cell_type": "code",
   "execution_count": null,
   "metadata": {},
   "outputs": [],
   "source": [
    "# correlation with response\n",
    "c = np.corrcoef(train[TARGET], scores)[0][1]\n",
    "print(f'Target correlation with anomaly scores on train test is {c:.4f}')"
   ]
  },
  {
   "cell_type": "code",
   "execution_count": null,
   "metadata": {},
   "outputs": [],
   "source": [
    "# other vars\n",
    "train[FEATURES].corrwith(train[TARGET])"
   ]
  },
  {
   "cell_type": "code",
   "execution_count": null,
   "metadata": {},
   "outputs": [],
   "source": [
    "sns.violinplot(data=train, x=isin, y=TARGET)"
   ]
  },
  {
   "attachments": {},
   "cell_type": "markdown",
   "metadata": {},
   "source": [
    "## Does the prediction improve?"
   ]
  },
  {
   "cell_type": "code",
   "execution_count": null,
   "metadata": {},
   "outputs": [],
   "source": [
    "df1 = train.copy()\n",
    "df2 = df1[isin==1]\n",
    "df3 = pd.concat([train, pd.Series(scores)], axis=1)"
   ]
  },
  {
   "cell_type": "code",
   "execution_count": null,
   "metadata": {},
   "outputs": [],
   "source": [
    "# cv = KFold(n_splits=cfg.nfolds, shuffle=True, random_state=cfg.seed)\n",
    "# for df, name in zip([df1, df2, df3], ['Original', 'Without outliers', 'With anomaly score']):\n",
    "\n",
    "#     model = HistGradientBoostingRegressor()\n",
    "#     x = df.drop(TARGET, axis=1)\n",
    "#     y = df[TARGET]\n",
    "\n",
    "#     scores = cross_validate(model, x, y, scoring=['neg_mean_squared_error', 'neg_mean_absolute_error'], cv=cv, n_jobs=cfg.njobs)\n",
    "#     mse, mae = np.mean(-scores['test_neg_mean_squared_error']), np.mean(-scores['test_neg_mean_absolute_error'])\n",
    "    \n",
    "#     print(f'{name:20}mse: {mse:.4f}, mae: {mae:.4f}')"
   ]
  },
  {
   "cell_type": "code",
   "execution_count": null,
   "metadata": {},
   "outputs": [],
   "source": [
    "# # save results\n",
    "# tmp = train.copy()\n",
    "# tmp['Scores'] = scores\n",
    "# tmp['IsOut'] = isout.astype(object)"
   ]
  }
 ],
 "metadata": {
  "kernelspec": {
   "display_name": "Python 3",
   "language": "python",
   "name": "python3"
  },
  "language_info": {
   "codemirror_mode": {
    "name": "ipython",
    "version": 3
   },
   "file_extension": ".py",
   "mimetype": "text/x-python",
   "name": "python",
   "nbconvert_exporter": "python",
   "pygments_lexer": "ipython3",
   "version": "3.10.5"
  },
  "orig_nbformat": 4,
  "vscode": {
   "interpreter": {
    "hash": "369f2c481f4da34e4445cda3fffd2e751bd1c4d706f27375911949ba6bb62e1c"
   }
  }
 },
 "nbformat": 4,
 "nbformat_minor": 2
}
